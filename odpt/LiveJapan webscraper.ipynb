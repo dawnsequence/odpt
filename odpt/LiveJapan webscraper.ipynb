{
 "cells": [
  {
   "cell_type": "code",
   "execution_count": 413,
   "metadata": {},
   "outputs": [],
   "source": [
    "#outputs all variables on their own lines in the OUT console\n",
    "\n",
    "from IPython.core.interactiveshell import InteractiveShell\n",
    "InteractiveShell.ast_node_interactivity = \"all\""
   ]
  },
  {
   "cell_type": "code",
   "execution_count": 414,
   "metadata": {},
   "outputs": [],
   "source": [
    "from bs4 import BeautifulSoup as bs\n",
    "import os\n",
    "import urllib3 \n",
    "import subprocess\n",
    "import requests"
   ]
  },
  {
   "cell_type": "code",
   "execution_count": 578,
   "metadata": {},
   "outputs": [],
   "source": [
    "#Pre-soup methods (URL request -> page contents -> text)\n",
    "\n",
    "\n",
    "def getPageText(selector):\n",
    "    try: \n",
    "        sourcepages.get(selector)\n",
    "        response=requests.get(sourcepages.get(selector))\n",
    "        PAGE=response.text\n",
    "        print (len(PAGE))\n",
    "        return PAGE, len(PAGE)\n",
    "    except ValueError:\n",
    "        #print (len(PAGE))   #MissingSchema exception\n",
    "        print (\"getPageText: Not an appropriate page identifier: check sourcepages dict\")\n",
    "        return 0\n",
    "\n",
    "\n",
    "def getPageTextTest(selector):\n",
    "    try:\n",
    "        assert getPageText(selector) != 0\n",
    "    except AssertionError:\n",
    "        print(\"getPageTextTest: Entered an invalid page identifier: \", selector)\n",
    "    \n",
    "#a test suite for the above\n",
    "def testPageGetting(selector):\n",
    "    getPageTextTest(selector)\n",
    "    #getPageText(selector)  #test that this fails properly - and it does"
   ]
  },
  {
   "cell_type": "code",
   "execution_count": 616,
   "metadata": {},
   "outputs": [],
   "source": [
    "class specialSoup(bs):\n",
    "    tagtarget=\"li\"\n",
    "    \n",
    "    def findAllTargets(self, tagtarget):\n",
    "        \"\"\"gets litargs array\"\"\"\n",
    "        targettags=self.find_all(tagtarget)\n",
    "        #print(\"Happy class method findAllTargets\")\n",
    "        return targettags"
   ]
  },
  {
   "cell_type": "code",
   "execution_count": 423,
   "metadata": {},
   "outputs": [],
   "source": [
    "def findPOIrecords(targetsarray):\n",
    "    \"\"\"extract POI records; gets recsarray from litargs\"\"\"\n",
    "    recsarray=[]\n",
    "    for tag in targetsarray:\n",
    "        if tag.attrs[\"class\"][0]==\"c-media__list\":\n",
    "            recsarray.append(tag)\n",
    "    return recsarray\n"
   ]
  },
  {
   "cell_type": "code",
   "execution_count": 473,
   "metadata": {},
   "outputs": [
    {
     "name": "stdout",
     "output_type": "stream",
     "text": [
      "93738\n",
      "103002\n",
      "105972\n"
     ]
    }
   ],
   "source": [
    "sourcepages={\n",
    "\"tour\" : \"https://livejapan.com/ja/in-pref-tokyo/spot-list/area-al1301/cate-cl01/?cost=min-max\",\n",
    "\"eat\" : \"https://livejapan.com/ja/in-pref-tokyo/spot-list/area-al1301/cate-cl02/?cost=min-max\",\n",
    "\"shop\" : \"https://livejapan.com/ja/in-pref-tokyo/spot-list/area-al1301/cate-cm0301/?cost=min-max\",\n",
    "}\n",
    "\n",
    "selector = \"shop\"\n",
    "shoppage = getPageText(selector)\n",
    "shoppage = shoppage[0]  #bc. tuple is returned with PAGE text (string), and size\n",
    "\n",
    "tourpage=getPageText(\"tour\")\n",
    "tourpage=tourpage[0]\n",
    "\n",
    "eatpage=getPageText(\"eat\")\n",
    "eatpage=eatpage[0]\n",
    "\n",
    "SOUP = bs(shoppage, \"html5lib\")\n",
    "toursoup = bs(tourpage, \"html5lib\")\n",
    "eatsoup = bs(eatpage, \"html5lib\")\n",
    "\n",
    "#eatsoup\n",
    "#toursoup"
   ]
  },
  {
   "cell_type": "code",
   "execution_count": 510,
   "metadata": {},
   "outputs": [
    {
     "data": {
      "text/plain": [
       "['https://livejapan.com/ja/in-pref-tokyo/spot-list/area-al1301/cate-cm0301/?cost=min-max']"
      ]
     },
     "execution_count": 510,
     "metadata": {},
     "output_type": "execute_result"
    },
    {
     "data": {
      "text/plain": [
       "['https://livejapan.com/ja/in-pref-tokyo/spot-list/area-al1301/cate-cl01/?cost=min-max']"
      ]
     },
     "execution_count": 510,
     "metadata": {},
     "output_type": "execute_result"
    },
    {
     "data": {
      "text/plain": [
       "['https://livejapan.com/ja/in-pref-tokyo/spot-list/area-al1301/cate-cl02/?cost=min-max']"
      ]
     },
     "execution_count": 510,
     "metadata": {},
     "output_type": "execute_result"
    }
   ],
   "source": [
    "##next step: get the multiple sourcepages for shop, tour, eat and put in arrays,\n",
    "#run above app by making selector from each of these\n",
    "\n",
    "shoppages=[]\n",
    "tourpages=[]\n",
    "eatpages=[]\n",
    "\n",
    "shoppages.append(sourcepages.get(\"shop\"))\n",
    "tourpages.append(sourcepages.get(\"tour\"))\n",
    "eatpages.append(sourcepages.get(\"eat\"))\n",
    "\n",
    "shoppages\n",
    "tourpages\n",
    "eatpages"
   ]
  },
  {
   "cell_type": "code",
   "execution_count": 511,
   "metadata": {},
   "outputs": [
    {
     "data": {
      "text/plain": [
       "{'class': ['c-pagenarion__navi'],\n",
       " 'href': 'https://livejapan.com/ja/in-pref-tokyo/spot-list/area-al1301/cate-cm0301/p-2/?cost=min-max'}"
      ]
     },
     "execution_count": 511,
     "metadata": {},
     "output_type": "execute_result"
    },
    {
     "data": {
      "text/plain": [
       "'https://livejapan.com/ja/in-pref-tokyo/spot-list/area-al1301/cate-cm0301/p-2/?cost=min-max'"
      ]
     },
     "execution_count": 511,
     "metadata": {},
     "output_type": "execute_result"
    },
    {
     "data": {
      "text/plain": [
       "['https://livejapan.com/ja/in-pref-tokyo/spot-list/area-al1301/cate-cm0301/?cost=min-max',\n",
       " 'https://livejapan.com/ja/in-pref-tokyo/spot-list/area-al1301/cate-cm0301/p-2/?cost=min-max']"
      ]
     },
     "execution_count": 511,
     "metadata": {},
     "output_type": "execute_result"
    }
   ],
   "source": [
    "target[0].attrs\n",
    "target[0][\"href\"]  #next page href\n",
    "shoppages.append(target[0][\"href\"])\n",
    "shoppages"
   ]
  },
  {
   "cell_type": "code",
   "execution_count": 512,
   "metadata": {},
   "outputs": [],
   "source": [
    "#put the above two cells into a method to return the next page\n",
    "#DEPRECATED\n",
    "def getNextPage(soup):\n",
    "    atags=soup.find_all(\"a\")\n",
    "    target=[]\n",
    "    nextpage=[]\n",
    "    for tag in atags:\n",
    "        try:\n",
    "            if (\"c-pagenarion__navi\") in tag[\"class\"]:\n",
    "                target.append(tag)\n",
    "        except KeyError:\n",
    "            pass\n",
    "    \n",
    "    nextpage=target[0][\"href\"]\n",
    "    return nextpage"
   ]
  },
  {
   "cell_type": "code",
   "execution_count": 666,
   "metadata": {},
   "outputs": [],
   "source": [
    "#put the above two cells into a method to return the next page\n",
    "def getNextPage2(soup):\n",
    "    atags=soup.find_all(\"a\")\n",
    "    target=[]\n",
    "    nextpage=[]\n",
    "    for tag in atags:\n",
    "        try:\n",
    "            if (\"c-pagenarion__navi\") in tag[\"class\"]:\n",
    "                if tag.span[\"class\"][1] == \"--mono-base-arrow\":\n",
    "                    target.append(tag)\n",
    "        except KeyError:\n",
    "            pass\n",
    "    \n",
    "    nextpage=target[0][\"href\"]\n",
    "    return nextpage\n",
    "\n",
    "def getNextPagefromURL(url):\n",
    "    urltext=(getPage(url))[0]\n",
    "    soup=specialSoup(urltext, \"html5lib\")\n",
    "    \n",
    "    atags=soup.find_all(\"a\")\n",
    "    target=[]\n",
    "    nextpage=[]\n",
    "    for tag in atags:\n",
    "        try:\n",
    "            if (\"c-pagenarion__navi\") in tag[\"class\"]:\n",
    "                if tag.span[\"class\"][1] == \"--mono-base-arrow\":\n",
    "                    target.append(tag)\n",
    "        except KeyError:\n",
    "            pass\n",
    "    \n",
    "    if len(target)==0:\n",
    "        print(\"No next page\")\n",
    "        nextpage=\"\"\n",
    "    else:\n",
    "        nextpage=target[0][\"href\"]\n",
    "        \n",
    "    return nextpage"
   ]
  },
  {
   "cell_type": "code",
   "execution_count": 540,
   "metadata": {
    "collapsed": true
   },
   "outputs": [
    {
     "data": {
      "text/plain": [
       "['https://livejapan.com/ja/in-pref-tokyo/spot-list/area-al1301/cate-cm0301/?cost=min-max',\n",
       " 'https://livejapan.com/ja/in-pref-tokyo/spot-list/area-al1301/cate-cm0301/p-2/?cost=min-max']"
      ]
     },
     "execution_count": 540,
     "metadata": {},
     "output_type": "execute_result"
    },
    {
     "data": {
      "text/plain": [
       "['https://livejapan.com/ja/in-pref-tokyo/spot-list/area-al1301/cate-cl01/?cost=min-max',\n",
       " 'https://livejapan.com/ja/in-pref-tokyo/spot-list/area-al1301/cate-cl01/p-2/?cost=min-max']"
      ]
     },
     "execution_count": 540,
     "metadata": {},
     "output_type": "execute_result"
    },
    {
     "data": {
      "text/plain": [
       "['https://livejapan.com/ja/in-pref-tokyo/spot-list/area-al1301/cate-cl02/?cost=min-max',\n",
       " 'https://livejapan.com/ja/in-pref-tokyo/spot-list/area-al1301/cate-cl02/p-2/?cost=min-max']"
      ]
     },
     "execution_count": 540,
     "metadata": {},
     "output_type": "execute_result"
    },
    {
     "name": "stdout",
     "output_type": "stream",
     "text": [
      "Already there\n",
      "Already there\n",
      "Already there\n"
     ]
    },
    {
     "data": {
      "text/plain": [
       "['https://livejapan.com/ja/in-pref-tokyo/spot-list/area-al1301/cate-cm0301/?cost=min-max',\n",
       " 'https://livejapan.com/ja/in-pref-tokyo/spot-list/area-al1301/cate-cm0301/p-2/?cost=min-max']"
      ]
     },
     "execution_count": 540,
     "metadata": {},
     "output_type": "execute_result"
    },
    {
     "data": {
      "text/plain": [
       "['https://livejapan.com/ja/in-pref-tokyo/spot-list/area-al1301/cate-cl01/?cost=min-max',\n",
       " 'https://livejapan.com/ja/in-pref-tokyo/spot-list/area-al1301/cate-cl01/p-2/?cost=min-max']"
      ]
     },
     "execution_count": 540,
     "metadata": {},
     "output_type": "execute_result"
    },
    {
     "data": {
      "text/plain": [
       "['https://livejapan.com/ja/in-pref-tokyo/spot-list/area-al1301/cate-cl02/?cost=min-max',\n",
       " 'https://livejapan.com/ja/in-pref-tokyo/spot-list/area-al1301/cate-cl02/p-2/?cost=min-max']"
      ]
     },
     "execution_count": 540,
     "metadata": {},
     "output_type": "execute_result"
    }
   ],
   "source": [
    "#getting second page for each\n",
    "shoppages\n",
    "tourpages\n",
    "eatpages\n",
    "\n",
    "if getNextPage(SOUP) in shoppages:\n",
    "    print(\"Already there\")\n",
    "else:\n",
    "    shoppages.append(getNextPage(SOUP))\n",
    "    \n",
    "if getNextPage(toursoup) in tourpages:\n",
    "    print(\"Already there\")\n",
    "else:\n",
    "    tourpages.append(getNextPage(toursoup))\n",
    "\n",
    "if getNextPage(eatsoup) in eatpages:\n",
    "    print(\"Already there\")\n",
    "else:\n",
    "    eatpages.append(getNextPage(eatsoup))\n",
    "\n",
    "shoppages\n",
    "tourpages\n",
    "eatpages\n",
    "\n",
    "sourcepages[\"shop2\"]=shoppages[1]\n",
    "sourcepages[\"tour2\"]=tourpages[1]\n",
    "sourcepages[\"eat2\"]=eatpages[1]"
   ]
  },
  {
   "cell_type": "code",
   "execution_count": 428,
   "metadata": {},
   "outputs": [
    {
     "name": "stdout",
     "output_type": "stream",
     "text": [
      "Happy class method findAllTargets\n",
      "10\n"
     ]
    }
   ],
   "source": [
    "mySpecialSoup=specialSoup(shoppage, \"html5lib\")\n",
    "tagtarg=\"li\"\n",
    "lis=mySpecialSoup.findAllTargets(tagtarg)\n",
    "recs=findPOIrecords(lis)\n",
    "print(len(recs))\n",
    "\n",
    "#mySpecialSoup.find_all(mySpecialSoup.tagtarget)"
   ]
  },
  {
   "cell_type": "code",
   "execution_count": 538,
   "metadata": {
    "collapsed": true
   },
   "outputs": [
    {
     "name": "stdout",
     "output_type": "stream",
     "text": [
      "{'locn': '渋谷', 'type': '百貨店・デパート', 'href': 'https://livejapan.com/ja/in-shibuya/spot-lj0003254/', 'id': 'lj0003254', 'name': '東急百貨店東横店'}\n",
      "{'locn': '池袋', 'type': '百貨店・デパート', 'href': 'https://livejapan.com/ja/in-ikebukuro/spot-lj0002989/', 'id': 'lj0002989', 'name': '東武百貨店 池袋店'}\n",
      "{'locn': '新宿', 'type': '百貨店・デパート', 'href': 'https://livejapan.com/ja/in-shinjuku/spot-lj0003209/', 'id': 'lj0003209', 'name': '小田急百貨店 新宿店'}\n",
      "{'locn': '東京駅', 'type': '百貨店・デパート', 'href': 'https://livejapan.com/ja/in-tokyo_train_station/spot-lj0005375/', 'id': 'lj0005375', 'name': '日本橋高島屋'}\n",
      "{'locn': '渋谷', 'type': '百貨店・デパート', 'href': 'https://livejapan.com/ja/in-shibuya/spot-lj0005642/', 'id': 'lj0005642', 'name': '西武渋谷店'}\n",
      "{'locn': '池袋', 'type': '百貨店・デパート', 'href': 'https://livejapan.com/ja/in-ikebukuro/spot-lj0005640/', 'id': 'lj0005640', 'name': '西武池袋本店'}\n",
      "{'locn': '渋谷', 'type': '百貨店・デパート', 'href': 'https://livejapan.com/ja/in-shibuya/spot-lj0003256/', 'id': 'lj0003256', 'name': '東急百貨店本店'}\n",
      "{'locn': '', 'type': '', 'href': 'https://livejapan.com/ja/in-shinjuku/spot-lj0004986/', 'id': 'lj0004986', 'name': '伊勢丹新宿店'}\n",
      "{'locn': '', 'type': '', 'href': 'https://livejapan.com/ja/in-shinjuku/spot-lj0003250/', 'id': 'lj0003250', 'name': '新宿タカシマヤ'}\n",
      "{'locn': '', 'type': '', 'href': 'https://livejapan.com/ja/in-ikebukuro/spot-lj0002143/', 'id': 'lj0002143', 'name': '西武池袋本店'}\n",
      "10\n"
     ]
    }
   ],
   "source": [
    "#shop page 1\n",
    "orderedRecs=orderRecords(recs)\n",
    "for i in orderedRecs: print(i)\n",
    "    \n",
    "print(len(orderedRecs))"
   ]
  },
  {
   "cell_type": "code",
   "execution_count": 539,
   "metadata": {
    "collapsed": true
   },
   "outputs": [
    {
     "data": {
      "text/plain": [
       "'https://livejapan.com/ja/in-pref-tokyo/spot-list/area-al1301/cate-cm0301/?cost=min-max'"
      ]
     },
     "execution_count": 539,
     "metadata": {},
     "output_type": "execute_result"
    },
    {
     "name": "stdout",
     "output_type": "stream",
     "text": [
      "93738\n",
      "53566\n",
      "Happy class method findAllTargets\n",
      "29\n",
      "6\n",
      "{'locn': '', 'type': '', 'href': 'https://livejapan.com/ja/in-tokyo_train_station/spot-lj0000682/', 'id': 'lj0000682', 'name': '大丸東京店'}\n",
      "{'locn': '', 'type': '', 'href': 'https://livejapan.com/ja/in-ikebukuro/spot-lj0002143/', 'id': 'lj0002143', 'name': '西武池袋本店'}\n",
      "{'locn': '', 'type': '', 'href': 'https://livejapan.com/ja/in-tokyo_train_station/spot-lj0002122/', 'id': 'lj0002122', 'name': '日本橋三越本店'}\n",
      "{'locn': '', 'type': '', 'href': 'https://livejapan.com/ja/in-ueno/spot-lj0003041/', 'id': 'lj0003041', 'name': '松坂屋\\u3000上野店'}\n",
      "{'locn': '', 'type': '', 'href': 'https://livejapan.com/ja/in-ginza/spot-lj0000683/', 'id': 'lj0000683', 'name': '松屋銀座'}\n",
      "{'locn': '', 'type': '', 'href': 'https://livejapan.com/ja/in-asakusa/spot-lj0003043/', 'id': 'lj0003043', 'name': '松屋浅草'}\n",
      "6\n",
      "{'locn': '', 'type': '', 'href': 'https://livejapan.com/ja/in-ikebukuro/spot-lj0002143/', 'id': 'lj0002143', 'name': '西武池袋本店'} Already in the shoprecs\n",
      "[{'locn': '渋谷', 'type': '百貨店・デパート', 'href': 'https://livejapan.com/ja/in-shibuya/spot-lj0003254/', 'id': 'lj0003254', 'name': '東急百貨店東横店'}, {'locn': '池袋', 'type': '百貨店・デパート', 'href': 'https://livejapan.com/ja/in-ikebukuro/spot-lj0002989/', 'id': 'lj0002989', 'name': '東武百貨店 池袋店'}, {'locn': '新宿', 'type': '百貨店・デパート', 'href': 'https://livejapan.com/ja/in-shinjuku/spot-lj0003209/', 'id': 'lj0003209', 'name': '小田急百貨店 新宿店'}, {'locn': '東京駅', 'type': '百貨店・デパート', 'href': 'https://livejapan.com/ja/in-tokyo_train_station/spot-lj0005375/', 'id': 'lj0005375', 'name': '日本橋高島屋'}, {'locn': '渋谷', 'type': '百貨店・デパート', 'href': 'https://livejapan.com/ja/in-shibuya/spot-lj0005642/', 'id': 'lj0005642', 'name': '西武渋谷店'}, {'locn': '池袋', 'type': '百貨店・デパート', 'href': 'https://livejapan.com/ja/in-ikebukuro/spot-lj0005640/', 'id': 'lj0005640', 'name': '西武池袋本店'}, {'locn': '渋谷', 'type': '百貨店・デパート', 'href': 'https://livejapan.com/ja/in-shibuya/spot-lj0003256/', 'id': 'lj0003256', 'name': '東急百貨店本店'}, {'locn': '', 'type': '', 'href': 'https://livejapan.com/ja/in-shinjuku/spot-lj0004986/', 'id': 'lj0004986', 'name': '伊勢丹新宿店'}, {'locn': '', 'type': '', 'href': 'https://livejapan.com/ja/in-shinjuku/spot-lj0003250/', 'id': 'lj0003250', 'name': '新宿タカシマヤ'}, {'locn': '', 'type': '', 'href': 'https://livejapan.com/ja/in-ikebukuro/spot-lj0002143/', 'id': 'lj0002143', 'name': '西武池袋本店'}, {'locn': '', 'type': '', 'href': 'https://livejapan.com/ja/in-tokyo_train_station/spot-lj0000682/', 'id': 'lj0000682', 'name': '大丸東京店'}, {'locn': '', 'type': '', 'href': 'https://livejapan.com/ja/in-tokyo_train_station/spot-lj0002122/', 'id': 'lj0002122', 'name': '日本橋三越本店'}, {'locn': '', 'type': '', 'href': 'https://livejapan.com/ja/in-ueno/spot-lj0003041/', 'id': 'lj0003041', 'name': '松坂屋\\u3000上野店'}, {'locn': '', 'type': '', 'href': 'https://livejapan.com/ja/in-ginza/spot-lj0000683/', 'id': 'lj0000683', 'name': '松屋銀座'}, {'locn': '', 'type': '', 'href': 'https://livejapan.com/ja/in-asakusa/spot-lj0003043/', 'id': 'lj0003043', 'name': '松屋浅草'}]\n",
      "15\n"
     ]
    }
   ],
   "source": [
    "#opening the next page: can do 1 of 2 ways - \n",
    "#via \"next\" button on each page using getNextPage above\n",
    "#or, just adding URLs until not able to get any new ones\n",
    "shoppages[0]\n",
    "\n",
    "spage1=getPageText(\"shop\")\n",
    "spage2 = getPageText(\"shop2\")\n",
    "\n",
    "#sourcepages\n",
    "#spage2 = spage2[0]  #bc. tuple is returned with PAGE text (string), and size\n",
    "\n",
    "#shopsoup2 = bs(spage2[0], \"html5lib\")\n",
    "shopsoup2 = specialSoup(spage2[0], \"html5lib\")\n",
    "tagtarg=\"li\"\n",
    "ss2li=shopsoup2.findAllTargets(tagtarg)\n",
    "print(len(ss2li))\n",
    "ss2recs=findPOIrecords(ss2li)\n",
    "print(len(ss2recs))\n",
    "\n",
    "ss2orderedrecs=orderRecords(ss2recs)\n",
    "for i in ss2orderedrecs: print(i)\n",
    "    \n",
    "#shoppage2\n",
    "print(len(ss2orderedrecs))\n",
    "\n",
    "shoprecs=orderedRecs\n",
    "for i in ss2orderedrecs:\n",
    "    if i not in shoprecs:\n",
    "        shoprecs.append(i)\n",
    "    else:\n",
    "        print(i, \"Already in the shoprecs\")\n",
    "\n",
    "#our final shop list\n",
    "print(shoprecs)\n",
    "print(len(shoprecs))"
   ]
  },
  {
   "cell_type": "code",
   "execution_count": null,
   "metadata": {},
   "outputs": [],
   "source": [
    "tourpages\n",
    "tourpage2=getPageText(\"tour2\")\n",
    "tourpage2=tourpage2[0]\n",
    "\n",
    "tour2soup=specialSoup(tourpage2, \"html5lib\")\n",
    "#tour2soup\n",
    "\n",
    "getNextPage2(toursoup)\n",
    "getNextPage2(tour2soup)"
   ]
  },
  {
   "cell_type": "code",
   "execution_count": 598,
   "metadata": {
    "collapsed": true
   },
   "outputs": [
    {
     "name": "stdout",
     "output_type": "stream",
     "text": [
      "https://livejapan.com/ja/in-pref-tokyo/spot-list/area-al1301/cate-cl02/?cost=min-max\n",
      "Happy class method findAllTargets\n",
      "Happy class method findAllTargets\n",
      "7  records on page\n",
      "\n",
      "10 eat records on page\n",
      "\n",
      "{'locn': '', 'type': '', 'href': 'https://livejapan.com/ja/in-tsukiji/spot-lj0003568/', 'id': 'lj0003568', 'name': '波除稲荷神社'}\n",
      "{'locn': '', 'type': '', 'href': 'https://livejapan.com/ja/in-shibuya/spot-lj0002566/', 'id': 'lj0002566', 'name': '宮下公園'}\n",
      "{'locn': '', 'type': '', 'href': 'https://livejapan.com/ja/in-kagurazaka/spot-lj0003610/', 'id': 'lj0003610', 'name': '神楽坂通り'}\n",
      "{'locn': '', 'type': '', 'href': 'https://livejapan.com/ja/in-tokyo_train_station/spot-lj0005612/', 'id': 'lj0005612', 'name': '日本橋とやま館 観光交流サロン'}\n",
      "{'locn': '', 'type': '', 'href': 'https://livejapan.com/ja/in-ningyocho_monzen-nakacho_kasai/spot-lj0000014/', 'id': 'lj0000014', 'name': 'T-CAT外国人観光案内所'}\n",
      "{'locn': '', 'type': '', 'href': 'https://livejapan.com/ja/in-itabashi_nerima/spot-lj0002406/', 'id': 'lj0002406', 'name': '大泉アニメゲート'}\n",
      "{'locn': '', 'type': '', 'href': 'https://livejapan.com/ja/in-shinjuku/spot-lj0005606/', 'id': 'lj0005606', 'name': '都営交通案内所'}\n",
      "{'locn': '六本木', 'type': '寿司', 'href': 'https://livejapan.com/ja/in-roppongi/spot-lj0003971/', 'id': 'lj0003971', 'name': '板前寿司 江戸'}\n",
      "{'locn': '新宿', 'type': '寿司', 'href': 'https://livejapan.com/ja/in-shinjuku/spot-lj0000385/', 'id': 'lj0000385', 'name': '鮨丸'}\n",
      "{'locn': '恵比寿・中目黒', 'type': '居酒屋', 'href': 'https://livejapan.com/ja/in-ebisu_nakameguro/spot-lj0005425/', 'id': 'lj0005425', 'name': '目黒 居酒屋 たつみや'}\n",
      "{'locn': '新宿', 'type': '焼肉', 'href': 'https://livejapan.com/ja/in-shinjuku/spot-lj0002770/', 'id': 'lj0002770', 'name': '土古里 新宿NOWAビル店'}\n",
      "{'locn': '秋葉原', 'type': '居酒屋', 'href': 'https://livejapan.com/ja/in-akihabara/spot-lj0004212/', 'id': 'lj0004212', 'name': '和食バル 音音 御茶ノ水ソラシティ店'}\n",
      "{'locn': '池袋', 'type': '日本料理・料亭', 'href': 'https://livejapan.com/ja/in-ikebukuro/spot-lj0002732/', 'id': 'lj0002732', 'name': '音音 池袋店'}\n",
      "{'locn': '浅草', 'type': 'お好み焼き・もんじゃ・たこ焼き', 'href': 'https://livejapan.com/ja/in-asakusa/spot-lj0003377/', 'id': 'lj0003377', 'name': '浅草 つる次郎'}\n",
      "{'locn': '恵比寿・中目黒', 'type': '居酒屋', 'href': 'https://livejapan.com/ja/in-ebisu_nakameguro/spot-lj0002680/', 'id': 'lj0002680', 'name': '創作和食 代官山 楚々'}\n",
      "{'locn': '東京駅', 'type': '日本料理・料亭', 'href': 'https://livejapan.com/ja/in-tokyo_train_station/spot-lj0000130/', 'id': 'lj0000130', 'name': '京おばんざい 丸の内 豆まる'}\n",
      "{'locn': '新宿', 'type': '居酒屋', 'href': 'https://livejapan.com/ja/in-shinjuku/spot-lj0004638/', 'id': 'lj0004638', 'name': '地中海料理 SHINJUKU Mar Mare ～マルマーレ～新宿東口店'}\n"
     ]
    }
   ],
   "source": [
    "def getPage(url):\n",
    "    try:\n",
    "        response=requests.get(url)\n",
    "        PAGE=response.text\n",
    "        #print (len(PAGE))\n",
    "        return PAGE, len(PAGE)\n",
    "    except ValueError:\n",
    "        return \"Nope Nope Nope\"\n",
    "        \n",
    "tpage=\"https://livejapan.com/ja/in-pref-tokyo/spot-list/area-al1301/cate-cl01/p-72/?cost=min-max\"\n",
    "epage=\"https://livejapan.com/ja/in-pref-tokyo/spot-list/area-al1301/cate-cl02/p-3/?cost=min-max\"\n",
    "teat=sourcepages.get(\"eat\")\n",
    "print(teat)\n",
    "\n",
    "#below still works, just loops over to the next page\n",
    "#oopage=\"https://livejapan.com/ja/in-pref-tokyo/spot-list/area-al1301/cate-cl01/p-75/?cost=min-max\"\n",
    "\n",
    "tpagetext=getPage(tpage)\n",
    "epagetext=getPage(epage)\n",
    "#print(tpagetext[1])\n",
    "tpagetext=tpagetext[0]\n",
    "epagetext=epagetext[0]\n",
    "\n",
    "tpagesoup=specialSoup(tpagetext, \"html5lib\")\n",
    "epagesoup=specialSoup(epagetext, \"html5lib\")\n",
    "tagtarg=\"li\"\n",
    "lis=tpagesoup.findAllTargets(tagtarg)\n",
    "elis=epagesoup.findAllTargets(tagtarg)\n",
    "\n",
    "recs=findPOIrecords(lis)\n",
    "print(len(recs), \" records on page\\n\")\n",
    "\n",
    "erecs=findPOIrecords(elis)\n",
    "print(len(erecs), \"eat records on page\\n\")\n",
    "\n",
    "orderedRecs=orderRecords(recs)\n",
    "for i in orderedRecs: print(i)\n",
    "\n",
    "eorderedRecs=orderRecords(erecs)\n",
    "for i in eorderedRecs: print(i)"
   ]
  },
  {
   "cell_type": "code",
   "execution_count": null,
   "metadata": {},
   "outputs": [],
   "source": [
    "def getPOIsfromURL(url):\n",
    "    urltext=(getPage(url))[0]\n",
    "    pagesoup=specialSoup(urltext, \"html5lib\")\n",
    "    tagtarget=\"li\"\n",
    "    litags=pagesoup.findAllTargets(tagtarget)\n",
    "    \n",
    "    recs=findPOIrecords(litags)\n",
    "    POIRecs=orderRecords(recs)\n",
    "    \n",
    "    return POIRecs\n",
    "\n",
    "def orderRecords(recsarray):\n",
    "    \"\"\"get your item records in a nice orderly list of dictionaries\"\"\"\n",
    "    recordlist=[]\n",
    "    for record in recsarray:\n",
    "        recordcontents={}\n",
    "        innertags=[]\n",
    "        recordcontents[\"id\"]=record[\"data-spotid\"]\n",
    "        \n",
    "        for tag in record.descendants:\n",
    "            innertags.append(tag)\n",
    "        \n",
    "        titles=(innertags[12].text).split()\n",
    "        #print(titles)\n",
    "                \n",
    "        recordcontents[\"href\"]=innertags[5].attrs[\"href\"]\n",
    "        recordcontents[\"name\"]=innertags[8].attrs[\"alt\"]\n",
    "        try:\n",
    "            recordcontents[\"locn\"]=titles[1]\n",
    "            recordcontents[\"type\"]=titles[2]\n",
    "        except IndexError:\n",
    "            recordcontents[\"locn\"]=innertags[27].title().strip()\n",
    "            recordcontents[\"type\"]=innertags[29].title().strip()\n",
    "    \n",
    "        recordlist.append(recordcontents)\n",
    "    return recordlist   #if this is off by one indent, will overwrite each time and return only the last record value    \n",
    "\n",
    "\n",
    "r=getPOIsfromURL(teat)\n",
    "for i in r: print(i)"
   ]
  },
  {
   "cell_type": "code",
   "execution_count": null,
   "metadata": {},
   "outputs": [],
   "source": []
  },
  {
   "cell_type": "code",
   "execution_count": null,
   "metadata": {},
   "outputs": [],
   "source": [
    "#Next, to get ALL the poi pages\n",
    "#two possibilities: just call method getPagesfromURL and add to array\n",
    "#or, get page urls first and store them in array\n",
    "tt=sourcepages.get(\"tour\")\n",
    "st=sourcepages.get(\"shop\")\n",
    "\n",
    "epage\n",
    "getNextPagefromURL(epage)\n",
    "\n",
    "#if no next page, print 0\n",
    "tpage\n",
    "len(getNextPagefromURL(tpage))\n",
    "\n",
    "teat\n",
    "getNextPagefromURL(teat)"
   ]
  },
  {
   "cell_type": "code",
   "execution_count": null,
   "metadata": {},
   "outputs": [],
   "source": [
    "allshopresults=[]\n",
    "alleatresults=[]\n",
    "alltourresults=[]\n",
    "\n",
    "nextexists=1\n",
    "result=st\n",
    "while len(result) > 0:\n",
    "    allshopresults.append(result)\n",
    "    result=getNextPagefromURL(result)\n",
    "\n",
    "# print(allshopresults)\n",
    "# print(alleatresults)\n",
    "# print(alltourresults)\n",
    "\n",
    "def getAllPages(url):\n",
    "    result=url\n",
    "    resultsindex=[]\n",
    "    resultsindex.append(url)\n",
    "    \n",
    "    while (len(getNextPagefromURL(url))) > 0:\n",
    "        url=getNextPagefromURL(url)\n",
    "        resultsindex.append(url)\n",
    "    \n",
    "# url is not getting updated here;  so always reading the initial url value  \n",
    "#     while len(getNextPagefromURL(url))>0:\n",
    "#         resultsindex.append(result)\n",
    "#         result=getNextPagefromURL(result)\n",
    "        \n",
    "    return resultsindex\n",
    "\n",
    "\n",
    "print(getAllPages(st))\n",
    "print(getAllPages(tt))\n",
    "        \n",
    "    \n",
    "#getNextPagefromURL(tt)\n",
    "#len(getNextPagefromURL(getNextPagefromURL(getNextPagefromURL(st))))"
   ]
  },
  {
   "cell_type": "code",
   "execution_count": 701,
   "metadata": {},
   "outputs": [
    {
     "data": {
      "text/plain": [
       "'https://livejapan.com/ja/in-pref-tokyo/spot-list/area-al1301/cate-cm0301/?cost=min-max'"
      ]
     },
     "execution_count": 701,
     "metadata": {},
     "output_type": "execute_result"
    },
    {
     "data": {
      "text/plain": [
       "'https://livejapan.com/ja/in-pref-tokyo/spot-list/area-al1301/cate-cl01/?cost=min-max'"
      ]
     },
     "execution_count": 701,
     "metadata": {},
     "output_type": "execute_result"
    },
    {
     "data": {
      "text/plain": [
       "'https://livejapan.com/ja/in-pref-tokyo/spot-list/area-al1301/cate-cl02/?cost=min-max'"
      ]
     },
     "execution_count": 701,
     "metadata": {},
     "output_type": "execute_result"
    },
    {
     "name": "stdout",
     "output_type": "stream",
     "text": [
      "No next page\n",
      "No next page\n",
      "No next page\n",
      "2 72 169\n"
     ]
    }
   ],
   "source": [
    "st=sourcepages.get(\"shop\")\n",
    "tt=sourcepages.get(\"tour\")\n",
    "et=sourcepages.get(\"eat\")\n",
    "\n",
    "st\n",
    "tt\n",
    "et\n",
    "\n",
    "#these are the pages we will look through\n",
    "shop_all=(getAllPages(st))\n",
    "tt_all=(getAllPages(tt))\n",
    "et_all=(getAllPages(et))\n",
    "\n",
    "print(len(shop_all), len(tt_all), len(et_all))"
   ]
  },
  {
   "cell_type": "code",
   "execution_count": null,
   "metadata": {},
   "outputs": [],
   "source": [
    "shopPOIlist=[]\n",
    "eatPOIlist=[]\n",
    "tourPOIlist=[]\n",
    "\n",
    "for surl in shop_all:\n",
    "    for item in getPOIsfromURL(surl):\n",
    "        if item not in shopPOIlist:\n",
    "            shopPOIlist.append(item)\n",
    "            \n",
    "    \n",
    "for turl in tt_all:\n",
    "    for item in getPOIsfromURL(turl):\n",
    "        if item not in tourPOIlist:\n",
    "            tourPOIlist.append(item)\n",
    "    \n",
    "for eurl in et_all:\n",
    "    for item in getPOIsfromURL(eurl):\n",
    "        if item not in eatPOIlist:\n",
    "            eatPOIlist.append(item)\n",
    "\n",
    "#our final output arrays\n",
    "print(len(shopPOIlist), len(eatPOIlist), len(tourPOIlist))"
   ]
  },
  {
   "cell_type": "code",
   "execution_count": 727,
   "metadata": {},
   "outputs": [
    {
     "name": "stdout",
     "output_type": "stream",
     "text": [
      "hin ooo\n"
     ]
    }
   ],
   "source": [
    "r=[\"hi\", \"ue\", \"hin\", \"ooo\"]\n",
    "n=\" \".join(r[2:])\n",
    "print(n)"
   ]
  },
  {
   "cell_type": "code",
   "execution_count": 724,
   "metadata": {},
   "outputs": [
    {
     "name": "stdout",
     "output_type": "stream",
     "text": [
      "{'locn': '池袋', 'type': '百貨店・デパート', 'href': 'https://livejapan.com/ja/in-ikebukuro/spot-lj0002989/', 'id': 'lj0002989', 'name': '東武百貨店 池袋店'}\n",
      "{'locn': '渋谷', 'type': '百貨店・デパート', 'href': 'https://livejapan.com/ja/in-shibuya/spot-lj0003254/', 'id': 'lj0003254', 'name': '東急百貨店東横店'}\n",
      "{'locn': '新宿', 'type': '百貨店・デパート', 'href': 'https://livejapan.com/ja/in-shinjuku/spot-lj0003209/', 'id': 'lj0003209', 'name': '小田急百貨店 新宿店'}\n",
      "{'locn': '東京駅', 'type': '百貨店・デパート', 'href': 'https://livejapan.com/ja/in-tokyo_train_station/spot-lj0005375/', 'id': 'lj0005375', 'name': '日本橋高島屋'}\n",
      "{'locn': '渋谷', 'type': '百貨店・デパート', 'href': 'https://livejapan.com/ja/in-shibuya/spot-lj0005642/', 'id': 'lj0005642', 'name': '西武渋谷店'}\n",
      "{'locn': '池袋', 'type': '百貨店・デパート', 'href': 'https://livejapan.com/ja/in-ikebukuro/spot-lj0005640/', 'id': 'lj0005640', 'name': '西武池袋本店'}\n",
      "{'locn': '渋谷', 'type': '百貨店・デパート', 'href': 'https://livejapan.com/ja/in-shibuya/spot-lj0003256/', 'id': 'lj0003256', 'name': '東急百貨店本店'}\n",
      "{'locn': '新宿', 'type': '百貨店・デパート', 'href': 'https://livejapan.com/ja/in-shinjuku/spot-lj0004986/', 'id': 'lj0004986', 'name': '伊勢丹新宿店'}\n",
      "{'locn': '新宿', 'type': '百貨店・デパート', 'href': 'https://livejapan.com/ja/in-shinjuku/spot-lj0003250/', 'id': 'lj0003250', 'name': '新宿タカシマヤ'}\n",
      "{'locn': '銀座', 'type': '百貨店・デパート', 'href': 'https://livejapan.com/ja/in-ginza/spot-lj0000680/', 'id': 'lj0000680', 'name': '銀座三越'}\n",
      "{'locn': '東京駅', 'type': '百貨店・デパート', 'href': 'https://livejapan.com/ja/in-tokyo_train_station/spot-lj0000682/', 'id': 'lj0000682', 'name': '大丸東京店'}\n",
      "{'locn': '池袋', 'type': '百貨店・デパート', 'href': 'https://livejapan.com/ja/in-ikebukuro/spot-lj0002143/', 'id': 'lj0002143', 'name': '西武池袋本店'}\n",
      "{'locn': '東京駅', 'type': '百貨店・デパート', 'href': 'https://livejapan.com/ja/in-tokyo_train_station/spot-lj0002122/', 'id': 'lj0002122', 'name': '日本橋三越本店'}\n",
      "{'locn': '上野店', 'type': '上野', 'href': 'https://livejapan.com/ja/in-ueno/spot-lj0003041/', 'id': 'lj0003041', 'name': '松坂屋\\u3000上野店'}\n",
      "{'locn': '銀座', 'type': '百貨店・デパート', 'href': 'https://livejapan.com/ja/in-ginza/spot-lj0000683/', 'id': 'lj0000683', 'name': '松屋銀座'}\n",
      "{'locn': '浅草', 'type': '百貨店・デパート', 'href': 'https://livejapan.com/ja/in-asakusa/spot-lj0003043/', 'id': 'lj0003043', 'name': '松屋浅草'}\n"
     ]
    }
   ],
   "source": [
    "#our final output array items\n",
    "for i in shopPOIlist:\n",
    "    print(i)"
   ]
  },
  {
   "cell_type": "code",
   "execution_count": 707,
   "metadata": {},
   "outputs": [
    {
     "name": "stdout",
     "output_type": "stream",
     "text": [
      "16\n"
     ]
    }
   ],
   "source": [
    "shops= [item for sublist in shopPOIlist for item in sublist]\n",
    "print(len(shops))    "
   ]
  },
  {
   "cell_type": "code",
   "execution_count": 697,
   "metadata": {},
   "outputs": [
    {
     "data": {
      "text/plain": [
       "55"
      ]
     },
     "execution_count": 697,
     "metadata": {},
     "output_type": "execute_result"
    },
    {
     "name": "stdout",
     "output_type": "stream",
     "text": [
      "<span class=\"c-ico --mono-base-arrow-l\"></span>\n",
      "\n",
      "--mono-base-arrow-l\n",
      "<span class=\"c-ico --mono-base-arrow\"></span>\n",
      "\n",
      "--mono-base-arrow\n",
      "THISSSSS\n",
      "[<a class=\"c-pagenarion__navi\" href=\"https://livejapan.com/ja/in-pref-tokyo/spot-list/area-al1301/cate-cl01/p-3/?cost=min-max\"><span class=\"c-ico --mono-base-arrow\"></span></a>]\n"
     ]
    }
   ],
   "source": [
    "atags=tour2soup.find_all(\"a\")\n",
    "len(atags)\n",
    "target=[]\n",
    "for n in atags:\n",
    "    try: \n",
    "        #print(type(n[\"class\"]))\n",
    "        #print (\"c-pagenarion__navi\" in n[\"class\"])\n",
    "        if (\"c-pagenarion__navi\") in n[\"class\"]:     #apparently == True, == False does not work\n",
    "            #print(n)\n",
    "            print(n.span)\n",
    "            print(n.span.text)\n",
    "            print(n.span[\"class\"][1])\n",
    "            if n.span[\"class\"][1] == \"--mono-base-arrow\":\n",
    "                print(\"THISSSSS\")\n",
    "                target.append(n)\n",
    "    except KeyError:\n",
    "        pass\n",
    "\n",
    "print(target)"
   ]
  },
  {
   "cell_type": "code",
   "execution_count": null,
   "metadata": {},
   "outputs": [],
   "source": [
    "#some tests of recsarray  \n",
    "#print(len(recsarray))  #10\n",
    "# print (recsarray[0])  #first POI record\n",
    "# type(recsarray[0])  #<class 'bs4.element.Tag'>\n",
    "\n",
    "#dictionary functions test code\n",
    "def dictTest():\n",
    "    tag0info={}\n",
    "    tag0info[\"hi\"]=\"b\"\n",
    "    tag0info[\"bn\"]=\"ue\"\n",
    "    tag0info[\"hrr\"]=None\n",
    "    tag0info[\"hrr\"]=\"he\"\n",
    "    print(tag0info)\n",
    "    print(tag0info.keys())\n",
    "    print(tag0info.values())"
   ]
  },
  {
   "cell_type": "code",
   "execution_count": 408,
   "metadata": {
    "collapsed": true
   },
   "outputs": [
    {
     "name": "stdout",
     "output_type": "stream",
     "text": [
      "getPageText: Not an appropriate page identifier: check sourcepages dict\n",
      "getPageTextTest: Entered an invalid page identifier:  uu\n",
      "{'bn': 'ue', 'hi': 'b', 'hrr': 'he'}\n",
      "dict_keys(['bn', 'hi', 'hrr'])\n",
      "dict_values(['ue', 'b', 'he'])\n"
     ]
    }
   ],
   "source": [
    "#Test codes\n",
    "sourcepages.get(\"shop\")\n",
    "testPageGetting(\"uu\")\n",
    "dictTest()"
   ]
  },
  {
   "cell_type": "code",
   "execution_count": 409,
   "metadata": {},
   "outputs": [],
   "source": [
    "#testtag=recsarray[0]"
   ]
  },
  {
   "cell_type": "code",
   "execution_count": 431,
   "metadata": {},
   "outputs": [],
   "source": [
    "# orderedRecs=orderRecords(recsarray)\n",
    "# print(len(recsarray))\n",
    "\n",
    "# for i in orderedRecs: print(i)\n",
    "    "
   ]
  },
  {
   "cell_type": "code",
   "execution_count": 432,
   "metadata": {},
   "outputs": [],
   "source": [
    "# #get id\n",
    "# tag0={}\n",
    "# testtag[\"data-spotid\"]\n",
    "# tag0[\"id\"]=testtag[\"data-spotid\"]\n",
    "# print(tag0)"
   ]
  },
  {
   "cell_type": "code",
   "execution_count": 433,
   "metadata": {},
   "outputs": [],
   "source": [
    "# #get href\n",
    "# count=0\n",
    "# tarray=[]\n",
    "# for a in testtag.descendants:   #also tags\n",
    "#     tarray.append(a)\n",
    "#     count+=1\n",
    "\n",
    "# print(type(tarray[3]))\n",
    "\n",
    "# tag0[\"href\"]=tarray[5].attrs[\"href\"]\n",
    "# tag0[\"name\"]=tarray[8].attrs[\"alt\"]   #or tarray[24]\n",
    "# tag0[\"locn\"]=tarray[27].title().strip()\n",
    "# tag0[\"type\"]=tarray[29].title().strip()\n",
    "# print(tag0)\n",
    "# print(tag0.keys())\n",
    "# print(tag0.values())\n",
    "# print(tag0[\"name\"])\n",
    "\n",
    "# print(type(tarray[27]))\n",
    "# locn=tarray[27]\n",
    "# typename=tarray[29]\n"
   ]
  },
  {
   "cell_type": "code",
   "execution_count": 434,
   "metadata": {},
   "outputs": [],
   "source": [
    "# litagsarray=[]\n",
    "# for tag in litags:\n",
    "#     litagsarray.append(tag)\n",
    "#     #print(tag.attrs)\n",
    "    \n",
    "# print(type(litagsarray[0]))    #each element is still a bs4.element.Tag\n",
    "# for tag in litagsarray:\n",
    "# #     print(tag.attrs)\n",
    "# #     print(tag['class'])\n",
    "#     if tag['class'] [0]== 'c-media__list':\n",
    "#         print(tag.attrs)\n",
    "#         print(tag)\n",
    "#         print(\"THIS\")"
   ]
  },
  {
   "cell_type": "code",
   "execution_count": 435,
   "metadata": {},
   "outputs": [],
   "source": [
    "# #prints a single location tag\n",
    "\n",
    "# tags=SOUP.body\n",
    "# #print(tags)\n",
    "# #lrtags=SOUP.find_all(class =\"c-media__list\")\n",
    "# print(len(litags))\n",
    "# #print(len(lrtags))\n",
    "\n",
    "# #ltags=SOUP.find_all(\"id\")\n",
    "\n",
    "# #len(ltags)\n",
    "# rectags=[]\n",
    "# spottags=[]\n",
    "# for i in litags:\n",
    "#     if str(i).find(\"c-media__list\") > -1:\n",
    "# #     if str(i).find(\"m_recommend__img\") > -1:   #if not found, gives index of -1, if found, gives index\n",
    "#         spottags.append(str(i))\n",
    "# #         print(i)\n",
    "#     else:\n",
    "#         pass\n",
    "    \n",
    "# #len(rectags)\n",
    "# # rectags[8]   #this is the row of recommended images\n",
    "# #len(atags)\n",
    "# print(len(spottags))\n",
    "# print(spottags[9])\n",
    "# print(spottags[9].find(\"spot-lj\"))"
   ]
  },
  {
   "cell_type": "code",
   "execution_count": 347,
   "metadata": {},
   "outputs": [],
   "source": [
    "# def orderRecords(recsarray):\n",
    "#     recordlist=[]\n",
    "#     for record in recsarray:\n",
    "#         recordcontents={}\n",
    "#         innertags=[]\n",
    "#         recordcontents[\"id\"]=record[\"data-spotid\"]\n",
    "        \n",
    "#         for tag in record.descendants:\n",
    "#             innertags.append(tag)\n",
    "            \n",
    "#         recordcontents[\"href\"]=innertags[5].attrs[\"href\"]\n",
    "#         recordcontents[\"name\"]=innertags[8].attrs[\"alt\"]\n",
    "#         recordcontents[\"locn\"]=innertags[27].title().strip()\n",
    "#         recordcontents[\"type\"]=innertags[29].title().strip()\n",
    "    \n",
    "#         recordlist.append(recordcontents)\n",
    "#     return recordlist   #if this is off by one indent, will overwrite each time and return only the last record value\n",
    "    "
   ]
  },
  {
   "cell_type": "code",
   "execution_count": 346,
   "metadata": {},
   "outputs": [],
   "source": [
    "# recordlist=[]\n",
    "# for record in recsarray:\n",
    "#     recordcontents={}\n",
    "#     inner=[]\n",
    "#     recordcontents[\"id\"]=record[\"data-spotid\"]\n",
    "    \n",
    "#     for tag in record.descendants:\n",
    "#         inner.append(tag)\n",
    "    \n",
    "#     recordcontents[\"href\"]=inner[5].attrs[\"href\"]\n",
    "#     recordcontents[\"name\"]=inner[8].attrs[\"alt\"]\n",
    "#     recordcontents[\"locn\"]=inner[27].title().strip()\n",
    "#     recordcontents[\"type\"]=inner[29].title().strip()\n",
    "    \n",
    "#     recordlist.append(recordcontents)\n",
    "    \n",
    "# #print(recordlist)\n",
    "# for a in recordlist:\n",
    "#     print(a)\n",
    "    "
   ]
  },
  {
   "cell_type": "code",
   "execution_count": 405,
   "metadata": {},
   "outputs": [],
   "source": [
    "#gets rid of whitespace in name tags\n",
    "# typename\n",
    "# type(typename)\n",
    "# ?typename.title\n",
    "# print(typename.title().strip())     #shibuya  (without spaces)\n",
    "# print(locn.title().strip())\n"
   ]
  },
  {
   "cell_type": "code",
   "execution_count": 395,
   "metadata": {},
   "outputs": [],
   "source": [
    "#len(SOUP) #2\n",
    "#len(SOUP.prettify()) #86650\n",
    "#print(SOUP.prettify())\n",
    "# print(type(SOUP))      #<class 'bs4.BeautifulSoup'>\n",
    "\n",
    "#some SOUP tests:\n",
    "#SOUP.a  #prints the first \"a\" tag\n",
    "divtags=SOUP.find_all(\"div\")\n",
    "#len(divtags)  #194 divtags in total\n",
    "#divtags[120]\n",
    "\n",
    "atags=SOUP.find_all(\"a\")\n",
    "#SOUP.find(\"c-media__area\")    #will not find this, as this is a class name, not a tag type"
   ]
  },
  {
   "cell_type": "code",
   "execution_count": 420,
   "metadata": {
    "collapsed": true
   },
   "outputs": [
    {
     "name": "stdout",
     "output_type": "stream",
     "text": [
      "<class 'bs4.element.Tag'>\n"
     ]
    },
    {
     "data": {
      "text/plain": [
       "{'class': ['header__navi__list']}"
      ]
     },
     "execution_count": 420,
     "metadata": {},
     "output_type": "execute_result"
    },
    {
     "name": "stdout",
     "output_type": "stream",
     "text": [
      "None\n"
     ]
    },
    {
     "data": {
      "text/plain": [
       "True"
      ]
     },
     "execution_count": 420,
     "metadata": {},
     "output_type": "execute_result"
    },
    {
     "data": {
      "text/plain": [
       "['header__navi__list']"
      ]
     },
     "execution_count": 420,
     "metadata": {},
     "output_type": "execute_result"
    },
    {
     "name": "stdout",
     "output_type": "stream",
     "text": [
      "['header__navi__list']\n",
      "['header__navi__list']\n",
      "['header__navi__list']\n",
      "['header__navi__list']\n",
      "['header__navi__list']\n",
      "['header__navi__list']\n",
      "['recommend__list']\n",
      "['recommend__list']\n",
      "['recommend__list']\n",
      "['recommend__list']\n",
      "['recommend__list']\n",
      "['recommend__list']\n",
      "['recommend__list']\n",
      "['recommend__list']\n",
      "['recommend__list']\n",
      "['c-media__list', '--column']\n",
      "YEA\n",
      "['c-group__item', 'tooltip']\n",
      "['c-media__list', '--column']\n",
      "YEA\n",
      "['c-group__item', 'tooltip']\n",
      "['c-group__item', 'tooltip']\n",
      "['c-group__item', 'tooltip']\n",
      "['c-group__item', 'tooltip']\n",
      "['c-group__item', 'tooltip']\n",
      "['c-media__list', '--column']\n",
      "YEA\n",
      "['c-group__item', 'tooltip']\n",
      "['c-group__item', 'tooltip']\n",
      "['c-group__item', 'tooltip']\n",
      "['c-group__item', 'tooltip']\n",
      "['c-media__list', '--column']\n",
      "YEA\n",
      "['c-group__item', 'tooltip']\n",
      "['c-group__item', 'tooltip']\n",
      "['c-group__item', 'tooltip']\n",
      "['c-group__item', 'tooltip']\n",
      "['c-group__item', 'tooltip']\n",
      "['c-media__list', '--column']\n",
      "YEA\n",
      "['c-group__item', 'tooltip']\n",
      "['c-group__item', 'tooltip']\n",
      "['c-group__item', 'tooltip']\n",
      "['c-group__item', 'tooltip']\n",
      "['c-group__item', 'tooltip']\n",
      "['c-group__item', 'tooltip']\n",
      "['c-media__list', '--column']\n",
      "YEA\n",
      "['c-group__item', 'tooltip']\n",
      "['c-group__item', 'tooltip']\n",
      "['c-group__item', 'tooltip']\n",
      "['c-group__item', 'tooltip']\n",
      "['c-group__item', 'tooltip']\n",
      "['c-media__list', '--column']\n",
      "YEA\n",
      "['c-group__item', 'tooltip']\n",
      "['c-media__list', '--column']\n",
      "YEA\n",
      "['c-group__item', 'tooltip']\n",
      "['c-group__item', 'tooltip']\n",
      "['c-group__item', 'tooltip']\n",
      "['c-group__item', 'tooltip']\n",
      "['c-group__item', 'tooltip']\n",
      "['c-media__list', '--column']\n",
      "YEA\n",
      "['c-group__item', 'tooltip']\n",
      "['c-group__item', 'tooltip']\n",
      "['c-group__item', 'tooltip']\n",
      "['c-group__item', 'tooltip']\n",
      "['c-group__item', 'tooltip']\n",
      "['c-media__list', '--column']\n",
      "YEA\n",
      "['footer__navigation__item']\n",
      "['footer__navigation__item']\n",
      "['footer__navigation__item']\n",
      "['footer__navigation__item']\n",
      "['footer__navigation__item']\n",
      "['footer__icogroup__item']\n",
      "['footer__icogroup__item']\n",
      "['footer__icogroup__item']\n",
      "['footer__icogroup__item']\n",
      "['footer__icogroup__item']\n",
      "['footer__icogroup__item']\n",
      "['footer__icogroup__item']\n"
     ]
    }
   ],
   "source": [
    "litags=SOUP.find_all(\"li\")\n",
    "#print(type(litags[0]))      #litags is a ResultSet, litags[0] is a bs4.element.Tag object\n",
    "print(type(litags[0]))\n",
    "testtag=litags[0]\n",
    "testtag.attrs\n",
    "#print(testtag.contents)\n",
    "#print(testtag)\n",
    "\n",
    "print(testtag.id)\n",
    "testtag.has_attr(\"class\")\n",
    "testtag.attrs[\"class\"]\n",
    "\n",
    "recsarray=[]\n",
    "for tag in litags:\n",
    "    print (tag.attrs[\"class\"])\n",
    "    if tag.attrs[\"class\"][0] ==\"c-media__list\": \n",
    "        print (\"YEA\")\n",
    "        recsarray.append(tag)"
   ]
  }
 ],
 "metadata": {
  "kernelspec": {
   "display_name": "Python 3",
   "language": "python",
   "name": "python3"
  },
  "language_info": {
   "codemirror_mode": {
    "name": "ipython",
    "version": 3
   },
   "file_extension": ".py",
   "mimetype": "text/x-python",
   "name": "python",
   "nbconvert_exporter": "python",
   "pygments_lexer": "ipython3",
   "version": "3.4.3"
  }
 },
 "nbformat": 4,
 "nbformat_minor": 2
}
